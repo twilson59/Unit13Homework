{
 "cells": [
  {
   "cell_type": "code",
   "execution_count": 8,
   "id": "f1c1079a-07fc-4bff-ac40-7391a4dc279b",
   "metadata": {},
   "outputs": [],
   "source": [
    "#13.1\n",
    "import datetime\n",
    "\n",
    "#create a file\n",
    "writeOp = (open(\"today.txt\", \"w\"))\n",
    "\n",
    "#write the date to a string\n",
    "todaysTime = str(datetime.datetime.now())\n",
    "\n",
    "#write the string to a file and close\n",
    "writeOp.write(todaysTime)\n",
    "writeOp.close()\n",
    "\n",
    "#13.2\n",
    "\n",
    "#read a file\n",
    "readOp = (open(\"today.txt\", \"r\"))\n",
    "\n",
    "#write it to a string\n",
    "todayString = readOp.read()\n",
    "\n",
    "#13.3\n",
    "\n",
    "#read the string, and along with how it's formatted\n",
    "todayDate = datetime.datetime.strptime(todayString, '%Y-%m-%d %H:%M:%S.%f')\n",
    "\n",
    "#store parts of the string as new variables\n",
    "y = todayDate.year\n",
    "m = todayDate.month\n",
    "d = todayDate.day\n",
    "\n",
    "#print the variables in the desired order\n",
    "print(f\"{m}-{d}-{y}\")\n",
    "\n"
   ]
  }
 ],
 "metadata": {
  "kernelspec": {
   "display_name": "Python 3 (ipykernel)",
   "language": "python",
   "name": "python3"
  },
  "language_info": {
   "codemirror_mode": {
    "name": "ipython",
    "version": 3
   },
   "file_extension": ".py",
   "mimetype": "text/x-python",
   "name": "python",
   "nbconvert_exporter": "python",
   "pygments_lexer": "ipython3",
   "version": "3.12.4"
  }
 },
 "nbformat": 4,
 "nbformat_minor": 5
}
